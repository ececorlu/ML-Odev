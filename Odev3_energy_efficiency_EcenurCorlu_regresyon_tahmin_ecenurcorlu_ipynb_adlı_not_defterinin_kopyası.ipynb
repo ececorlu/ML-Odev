{
  "nbformat": 4,
  "nbformat_minor": 0,
  "metadata": {
    "colab": {
      "name": "Odev3_energy efficiency_EcenurCorlu_regresyon_tahmin_ecenurcorlu.ipynb adlı not defterinin kopyası",
      "provenance": [],
      "collapsed_sections": [],
      "authorship_tag": "ABX9TyMoHwvKq7iduDvnuPlWaNmL",
      "include_colab_link": true
    },
    "kernelspec": {
      "name": "python3",
      "display_name": "Python 3"
    },
    "language_info": {
      "name": "python"
    }
  },
  "cells": [
    {
      "cell_type": "markdown",
      "metadata": {
        "id": "view-in-github",
        "colab_type": "text"
      },
      "source": [
        "<a href=\"https://colab.research.google.com/github/ececorlu/ML-Odev/blob/main/Odev3_energy_efficiency_EcenurCorlu_regresyon_tahmin_ecenurcorlu_ipynb_adl%C4%B1_not_defterinin_kopyas%C4%B1.ipynb\" target=\"_parent\"><img src=\"https://colab.research.google.com/assets/colab-badge.svg\" alt=\"Open In Colab\"/></a>"
      ]
    },
    {
      "cell_type": "markdown",
      "metadata": {
        "id": "FipQrO_QlBZV"
      },
      "source": [
        "#Çalışılan Veri: Energy efficiency -Classification, Regression\n",
        "This study looked into assessing the heating load and cooling load requirements of buildings (that is, energy efficiency) as a function of building parameters.\n",
        "\n",
        "https://archive-beta.ics.uci.edu/ml/datasets/242\n",
        "\n",
        "ENB2012_data.xlsx"
      ]
    },
    {
      "cell_type": "markdown",
      "metadata": {
        "id": "gYRM6M1yk-8-"
      },
      "source": [
        "\n",
        "\n",
        "0. X1 :Relative Compactness\n",
        "1. X2 :Surface Area\n",
        "2. X3 :Wall Area\n",
        "3. X4 :Roof Area\n",
        "4. X5 :Overall Height\n",
        "5. X6 :Orientation\n",
        "6. X7 :Glazing Area\n",
        "7. X8 :Glazing Area Distribution\n",
        "8. Y1 :Heating Load\n",
        "\n"
      ]
    },
    {
      "cell_type": "markdown",
      "metadata": {
        "id": "Xnt-zbUvIVtm"
      },
      "source": [
        "#MAE, MSE, Analizin Gücü"
      ]
    },
    {
      "cell_type": "code",
      "metadata": {
        "colab": {
          "base_uri": "https://localhost:8080/"
        },
        "id": "vY7vEoqNIWvm",
        "outputId": "48f0de09-2d1e-4274-f815-aa0f41a8bf3f"
      },
      "source": [
        "from pandas import read_csv\n",
        "from sklearn.model_selection import KFold\n",
        "from sklearn.model_selection import cross_val_score\n",
        "from sklearn.linear_model import LinearRegression\n",
        "\n",
        "\n",
        "#veri yükle\n",
        "from google.colab import drive\n",
        "drive.mount('/content/drive')\n",
        "dosya = \"/content/drive/My Drive/Colab Notebooks/ITU_Ders/Odev3_ecenur_Energy-efficiency-_ENB2012_data-_2_.csv\"\n",
        "\n",
        "isimler =[\"X1\",\"X2\",\"X3\",\"X4\",\"X5\",\"X6\",\"X7\",\"X8\",\"Y1\",\"Y2\"] \n",
        "vericercevesi=read_csv(dosya, names=isimler)\n",
        "array =vericercevesi.values\n",
        "\n",
        "#girdi-hedef ayrimi yapalim X girdiler Y hedef\n",
        "X = array[:,0:9]\n",
        "Y = array[:,8:9]\n",
        "\n",
        "#Grup Sayısı #CV\n",
        "kfold=KFold(n_splits=10)\n",
        "\n",
        "#Reg Modelimiz\n",
        "model = LinearRegression() \n",
        "\n",
        "#Tutarlılık ölçümü\n",
        "olcum = 'neg_mean_absolute_error'\n",
        "\n",
        "#Çapraz Doğrulama Ortalama Mutlak Hata -MAE\n",
        "results =cross_val_score(model,X,Y, cv=kfold, scoring=olcum)\n",
        "rmn=results.mean()\n",
        "rstd=results.std()\n",
        "\n",
        "print(\"Negatif MAE-->\",rmn,\" std- ->\",rstd)\n",
        "\n",
        "#Çapraz Doğrulama Ortalama Kare Hata -MSE\n",
        "\n",
        "#Tutarlılık ölçümü\n",
        "olcum = 'neg_mean_squared_error' \n",
        "results =cross_val_score(model,X,Y, cv=kfold, scoring=olcum)\n",
        "\n",
        "#sonuclar\n",
        "rmn=results.mean()\n",
        "rstd=results.std()\n",
        "print(\"Negatif MSE-->\",rmn,\" std- ->\",rstd)\n",
        "\n",
        "\n",
        "#Analizin Gücü\n",
        "\n",
        "#Tutarlılık ölçümü\n",
        "olcum = 'r2' \n",
        "results =cross_val_score(model,X,Y, cv=kfold, scoring=olcum)\n",
        "\n",
        "#Sonuclar\n",
        "rmn=results.mean()\n",
        "rstd=results.std()\n",
        "print(\"Analizin Gücü  r2-->\",rmn,\"std-->\",rstd)"
      ],
      "execution_count": 29,
      "outputs": [
        {
          "output_type": "stream",
          "text": [
            "Drive already mounted at /content/drive; to attempt to forcibly remount, call drive.mount(\"/content/drive\", force_remount=True).\n",
            "Negatif MAE--> -2.589040093425865e-14  std- -> 9.022707389093243e-15\n",
            "Negatif MSE--> -1.1603586914218655e-27  std- -> 7.190672484595588e-28\n",
            "Analizin Gücü  r2--> 1.0 std--> 0.0\n"
          ],
          "name": "stdout"
        }
      ]
    },
    {
      "cell_type": "markdown",
      "metadata": {
        "id": "8m968zG5J37u"
      },
      "source": [
        "Analizin Gücü \"1\" çıkmıştır. \n",
        "Hata Payları -2 ve -1 çıkmıştır."
      ]
    },
    {
      "cell_type": "markdown",
      "metadata": {
        "id": "NAO-iKFdHR1v"
      },
      "source": [
        "# Farklı Regresyon yöntemleri ile Tahmin Sonucu\n",
        "\n",
        "8 x verisinden Y1 tahmin edilmeye çalışılmıştır. \n",
        "En az hata payı ile tahmin eden yöntemin \"Decision Tree\" olduğu görülmüştür.\n"
      ]
    },
    {
      "cell_type": "markdown",
      "metadata": {
        "id": "wGu865ITs5VL"
      },
      "source": [
        "**Linear Regression**"
      ]
    },
    {
      "cell_type": "code",
      "metadata": {
        "colab": {
          "base_uri": "https://localhost:8080/"
        },
        "id": "kR6pTtIhcjqT",
        "outputId": "a54adc24-0c9b-4af4-de77-c85dc9c56da8"
      },
      "source": [
        "#Linear Regression\n",
        "from pandas import read_csv\n",
        "\n",
        "from sklearn.model_selection import KFold\n",
        "from sklearn.model_selection import cross_val_score\n",
        "from sklearn.linear_model import LinearRegression\n",
        "\n",
        "\n",
        "#veri yükle\n",
        "from google.colab import drive\n",
        "drive.mount('/content/drive')\n",
        "dosya = \"/content/drive/My Drive/Colab Notebooks/ITU_Ders/Odev3_ecenur_Energy-efficiency-_ENB2012_data-_2_.csv\"\n",
        "\n",
        "isimler =[\"X1\",\"X2\",\"X3\",\"X4\",\"X5\",\"X6\",\"X7\",\"X8\",\"Y1\",\"Y2\"] \n",
        "vericercevesi=read_csv(dosya, names=isimler)\n",
        "array =vericercevesi.values\n",
        "\n",
        "#girdi-hedef ayrimi yapalim X girdiler Y hedef\n",
        "X = array[:,0:8]\n",
        "Y = array[:,8]\n",
        "\n",
        "#Grup Sayısı\n",
        "kfold=KFold(n_splits=10)\n",
        "\n",
        "#Modelimiz\n",
        "model = LinearRegression()\n",
        "\n",
        "#Neyi ölçeceğiz\n",
        "scoring = 'neg_mean_squared_error'    \n",
        "\n",
        "#sonuclar\n",
        "results = cross_val_score(model, X, Y, cv=kfold, scoring=scoring)\n",
        "print(results.mean())\n"
      ],
      "execution_count": 30,
      "outputs": [
        {
          "output_type": "stream",
          "text": [
            "Drive already mounted at /content/drive; to attempt to forcibly remount, call drive.mount(\"/content/drive\", force_remount=True).\n",
            "-9.886748522398118\n"
          ],
          "name": "stdout"
        }
      ]
    },
    {
      "cell_type": "markdown",
      "metadata": {
        "id": "j5w32d-WJuCa"
      },
      "source": [
        "**Linear Regression ile Tahmin**"
      ]
    },
    {
      "cell_type": "code",
      "metadata": {
        "id": "47s_hCxQdNwp",
        "colab": {
          "base_uri": "https://localhost:8080/"
        },
        "outputId": "5c386632-86cb-47b8-d96e-5a3f8f7fd6ca"
      },
      "source": [
        "model.fit(X,Y)\n",
        "#Yeni Vaka 1\n",
        "X_new=[[0.9,514,290,110,7,2,0,0]] \n",
        "p1 = model.predict(X_new)\n",
        "print(\"Tahmin 1\",p1)\n",
        "\n",
        "#Yeni Vaka 2\n",
        "X_new2=[[0.98,514.5,294,110.25,7,2,0,0]]\n",
        "p2=model.predict(X_new2)\n",
        "print(\"Tahmin 2\",p2)"
      ],
      "execution_count": 31,
      "outputs": [
        {
          "output_type": "stream",
          "text": [
            "Tahmin 1 [-8.34140679e+11]\n",
            "Tahmin 2 [22.63642986]\n"
          ],
          "name": "stdout"
        }
      ]
    },
    {
      "cell_type": "markdown",
      "metadata": {
        "id": "NwDYwS7PsVN2"
      },
      "source": [
        "**Decision Tree**"
      ]
    },
    {
      "cell_type": "code",
      "metadata": {
        "id": "tKamfH0vsOIC",
        "colab": {
          "base_uri": "https://localhost:8080/"
        },
        "outputId": "b183a688-453d-4c61-936e-c7ad7eeb948e"
      },
      "source": [
        "#Decision Tree Regression\n",
        "from pandas import read_csv\n",
        "\n",
        "from sklearn.model_selection import KFold\n",
        "from sklearn.model_selection import cross_val_score\n",
        "from sklearn.tree import DecisionTreeRegressor\n",
        "\n",
        "\n",
        "#veri yükle\n",
        "from google.colab import drive\n",
        "drive.mount('/content/drive')\n",
        "dosya = \"/content/drive/My Drive/Colab Notebooks/ITU_Ders/Odev3_ecenur_Energy-efficiency-_ENB2012_data-_2_.csv\"\n",
        "\n",
        "isimler =[\"X1\",\"X2\",\"X3\",\"X4\",\"X5\",\"X6\",\"X7\",\"X8\",\"Y1\",\"Y2\"] #BAGIMSIZ DEGİSKEN\n",
        "vericercevesi=read_csv(dosya, names=isimler)\n",
        "array =vericercevesi.values\n",
        "\n",
        "#girdi-hedef ayrimi yapalim X girdiler Y hedef\n",
        "X = array[:,0:8]\n",
        "Y = array[:,8]\n",
        "\n",
        "\n",
        "#Grup Sayısı\n",
        "kfold=KFold(n_splits=10)\n",
        "\n",
        "#Modelimiz\n",
        "model = DecisionTreeRegressor()\n",
        "\n",
        "#Neyi ölçeceğiz\n",
        "scoring = 'neg_mean_squared_error'\n",
        "\n",
        "#sonuclar\n",
        "results = cross_val_score(model, X, Y, cv=kfold, scoring=scoring)\n",
        "\n",
        "print(results.mean())\n"
      ],
      "execution_count": 32,
      "outputs": [
        {
          "output_type": "stream",
          "text": [
            "Drive already mounted at /content/drive; to attempt to forcibly remount, call drive.mount(\"/content/drive\", force_remount=True).\n",
            "-2.833349216609706\n"
          ],
          "name": "stdout"
        }
      ]
    },
    {
      "cell_type": "markdown",
      "metadata": {
        "id": "whR8dhZFJPSt"
      },
      "source": [
        "**Decision Tree ile tahmin**"
      ]
    },
    {
      "cell_type": "code",
      "metadata": {
        "colab": {
          "base_uri": "https://localhost:8080/"
        },
        "id": "of2xL9zgGqat",
        "outputId": "2be1c869-f9f6-47bf-9269-72f8a3d10db9"
      },
      "source": [
        "model.fit(X,Y)\n",
        "#Yeni Vaka 1\n",
        "X_new=[[0.9,514,290,110,7,2,0,0]] \n",
        "p1 = model.predict(X_new)\n",
        "print(\"Tahmin 1\",p1)\n",
        "\n",
        "#Yeni Vaka 2\n",
        "X_new2=[[0.98,514.5,294,110.25,7,2,0,0]]\n",
        "p2=model.predict(X_new2)\n",
        "print(\"Tahmin 2\",p2)"
      ],
      "execution_count": 33,
      "outputs": [
        {
          "output_type": "stream",
          "text": [
            "Tahmin 1 [20.84]\n",
            "Tahmin 2 [15.55]\n"
          ],
          "name": "stdout"
        }
      ]
    },
    {
      "cell_type": "markdown",
      "metadata": {
        "id": "72RbexpDsd_F"
      },
      "source": [
        "**Elastic Net**"
      ]
    },
    {
      "cell_type": "code",
      "metadata": {
        "id": "PDrUjEQCsc_i",
        "colab": {
          "base_uri": "https://localhost:8080/"
        },
        "outputId": "1be134ca-629a-4d0b-a26b-a05eb3ee1990"
      },
      "source": [
        "#ElasticNet Regression\n",
        "from pandas import read_csv\n",
        "\n",
        "from sklearn.model_selection import KFold\n",
        "from sklearn.model_selection import cross_val_score\n",
        "from sklearn.linear_model import ElasticNet\n",
        "\n",
        "#veri yükle\n",
        "from google.colab import drive\n",
        "drive.mount('/content/drive')\n",
        "dosya = \"/content/drive/My Drive/Colab Notebooks/ITU_Ders/Odev3_ecenur_Energy-efficiency-_ENB2012_data-_2_.csv\"\n",
        "\n",
        "isimler =[\"X1\",\"X2\",\"X3\",\"X4\",\"X5\",\"X6\",\"X7\",\"X8\",\"Y1\",\"Y2\"] #BAGIMSIZ DEGİSKEN\n",
        "vericercevesi=read_csv(dosya, names=isimler)\n",
        "array =vericercevesi.values\n",
        "\n",
        "#girdi-hedef ayrimi yapalim X girdiler Y hedef\n",
        "X = array[:,0:8]\n",
        "Y = array[:,8]\n",
        "\n",
        "\n",
        "#Grup Sayısı\n",
        "kfold=KFold(n_splits=10)\n",
        "\n",
        "#Modelimiz\n",
        "model = ElasticNet()\n",
        "\n",
        "#Neyi ölçeceğiz\n",
        "scoring = 'neg_mean_squared_error'\n",
        "\n",
        "#sonuclar\n",
        "results = cross_val_score(model, X, Y, cv=kfold, scoring=scoring)\n",
        "\n",
        "print(results.mean())\n"
      ],
      "execution_count": 34,
      "outputs": [
        {
          "output_type": "stream",
          "text": [
            "Drive already mounted at /content/drive; to attempt to forcibly remount, call drive.mount(\"/content/drive\", force_remount=True).\n",
            "-23.454039416781065\n"
          ],
          "name": "stdout"
        }
      ]
    },
    {
      "cell_type": "markdown",
      "metadata": {
        "id": "eb4kt9A1JZJI"
      },
      "source": [
        "**Elastic Net ile Tahmin**"
      ]
    },
    {
      "cell_type": "code",
      "metadata": {
        "colab": {
          "base_uri": "https://localhost:8080/"
        },
        "id": "8OEBNERBGrHA",
        "outputId": "93af60af-a2bc-4b61-8c69-c85357b03e03"
      },
      "source": [
        "model.fit(X,Y)\n",
        "#Yeni Vaka 1\n",
        "X_new=[[0.9,514,290,110,7,2,0,0]] \n",
        "p1 = model.predict(X_new)\n",
        "print(\"Tahmin 1\",p1)\n",
        "\n",
        "#Yeni Vaka 2\n",
        "X_new2=[[0.98,514.5,294,110.25,7,2,0,0]]\n",
        "p2=model.predict(X_new2)\n",
        "print(\"Tahmin 2\",p2)"
      ],
      "execution_count": 35,
      "outputs": [
        {
          "output_type": "stream",
          "text": [
            "Tahmin 1 [31.08314335]\n",
            "Tahmin 2 [31.51215371]\n"
          ],
          "name": "stdout"
        }
      ]
    },
    {
      "cell_type": "markdown",
      "metadata": {
        "id": "1inGUTEEsnSv"
      },
      "source": [
        "**K Yakın Komşu**"
      ]
    },
    {
      "cell_type": "code",
      "metadata": {
        "id": "yu2afH90suW3",
        "colab": {
          "base_uri": "https://localhost:8080/"
        },
        "outputId": "fc0770f1-d502-44ee-9946-f3079e4bbb6d"
      },
      "source": [
        "#KNN Regression\n",
        "from pandas import read_csv\n",
        "\n",
        "from sklearn.model_selection import KFold\n",
        "from sklearn.model_selection import cross_val_score\n",
        "from sklearn.neighbors import KNeighborsRegressor\n",
        "\n",
        "#veri yükle\n",
        "from google.colab import drive\n",
        "drive.mount('/content/drive')\n",
        "dosya = \"/content/drive/My Drive/Colab Notebooks/ITU_Ders/Odev3_ecenur_Energy-efficiency-_ENB2012_data-_2_.csv\"\n",
        "\n",
        "isimler =[\"X1\",\"X2\",\"X3\",\"X4\",\"X5\",\"X6\",\"X7\",\"X8\",\"Y1\",\"Y2\"] #BAGIMSIZ DEGİSKEN\n",
        "vericercevesi=read_csv(dosya, names=isimler)\n",
        "array =vericercevesi.values\n",
        "\n",
        "#girdi-hedef ayrimi yapalim X girdiler Y hedef\n",
        "X = array[:,0:8]\n",
        "Y = array[:,8]\n",
        "\n",
        "#Grup Sayısı\n",
        "kfold=KFold(n_splits=10)\n",
        "\n",
        "#Modelimiz\n",
        "model = KNeighborsRegressor()\n",
        "\n",
        "#Neyi ölçeceğiz\n",
        "scoring = 'neg_mean_squared_error'\n",
        "\n",
        "#sonuclar\n",
        "results = cross_val_score(model, X, Y, cv=kfold, scoring=scoring)\n",
        "\n",
        "print(results.mean())"
      ],
      "execution_count": 36,
      "outputs": [
        {
          "output_type": "stream",
          "text": [
            "Drive already mounted at /content/drive; to attempt to forcibly remount, call drive.mount(\"/content/drive\", force_remount=True).\n",
            "-10.59294747761859\n"
          ],
          "name": "stdout"
        }
      ]
    },
    {
      "cell_type": "markdown",
      "metadata": {
        "id": "K6eyc2PAJcTK"
      },
      "source": [
        "**KNN ile Tahmin**"
      ]
    },
    {
      "cell_type": "code",
      "metadata": {
        "colab": {
          "base_uri": "https://localhost:8080/"
        },
        "id": "oGvi2UAdGrur",
        "outputId": "7bb67a64-3aa5-48d7-f92e-17ba3c93c0ec"
      },
      "source": [
        "model.fit(X,Y)\n",
        "#Yeni Vaka 1\n",
        "X_new=[[0.9,514,290,110,7,2,0,0]] \n",
        "p1 = model.predict(X_new)\n",
        "print(\"Tahmin 1\",p1)\n",
        "\n",
        "#Yeni Vaka 2\n",
        "X_new2=[[0.98,514.5,294,110.25,7,2,0,0]]\n",
        "p2=model.predict(X_new2)\n",
        "print(\"Tahmin 2\",p2)"
      ],
      "execution_count": 37,
      "outputs": [
        {
          "output_type": "stream",
          "text": [
            "Tahmin 1 [23.218]\n",
            "Tahmin 2 [23.218]\n"
          ],
          "name": "stdout"
        }
      ]
    },
    {
      "cell_type": "markdown",
      "metadata": {
        "id": "sI7w1S2OsvJF"
      },
      "source": [
        "**Lasso**"
      ]
    },
    {
      "cell_type": "code",
      "metadata": {
        "id": "NuvqaFUkswBl",
        "colab": {
          "base_uri": "https://localhost:8080/"
        },
        "outputId": "7b65e04c-76ec-46bb-ec1f-9201a32948eb"
      },
      "source": [
        "#Lasso Regression\n",
        "from pandas import read_csv\n",
        "\n",
        "from sklearn.model_selection import KFold\n",
        "from sklearn.model_selection import cross_val_score\n",
        "from sklearn.linear_model import Lasso\n",
        "\n",
        "#veri yükle\n",
        "from google.colab import drive\n",
        "drive.mount('/content/drive')\n",
        "dosya = \"/content/drive/My Drive/Colab Notebooks/ITU_Ders/Odev3_ecenur_Energy-efficiency-_ENB2012_data-_2_.csv\"\n",
        "\n",
        "isimler =[\"X1\",\"X2\",\"X3\",\"X4\",\"X5\",\"X6\",\"X7\",\"X8\",\"Y1\",\"Y2\"] #BAGIMSIZ DEGİSKEN\n",
        "vericercevesi=read_csv(dosya, names=isimler)\n",
        "array =vericercevesi.values\n",
        "\n",
        "#girdi-hedef ayrimi yapalim X girdiler Y hedef\n",
        "X = array[:,0:8]\n",
        "Y = array[:,8]\n",
        "\n",
        "\n",
        "#Grup Sayısı\n",
        "kfold=KFold(n_splits=10)\n",
        "\n",
        "#Modelimiz\n",
        "model = Lasso()\n",
        "\n",
        "#Neyi ölçeceğiz\n",
        "scoring = 'neg_mean_squared_error'\n",
        "\n",
        "#sonuclar\n",
        "results = cross_val_score(model, X, Y, cv=kfold, scoring=scoring)\n",
        "\n",
        "print(results.mean())"
      ],
      "execution_count": 38,
      "outputs": [
        {
          "output_type": "stream",
          "text": [
            "Drive already mounted at /content/drive; to attempt to forcibly remount, call drive.mount(\"/content/drive\", force_remount=True).\n",
            "-24.492714890294405\n"
          ],
          "name": "stdout"
        }
      ]
    },
    {
      "cell_type": "markdown",
      "metadata": {
        "id": "VwYCB4bxJfRL"
      },
      "source": [
        "**Lasso ile Tahmin**"
      ]
    },
    {
      "cell_type": "code",
      "metadata": {
        "colab": {
          "base_uri": "https://localhost:8080/"
        },
        "id": "prONL-BlGsYr",
        "outputId": "70f49344-23b7-481b-e0d9-e66742883ece"
      },
      "source": [
        "model.fit(X,Y)\n",
        "#Yeni Vaka 1\n",
        "X_new=[[0.9,514,290,110,7,2,0,0]] \n",
        "p1 = model.predict(X_new)\n",
        "print(\"Tahmin 1\",p1)\n",
        "\n",
        "#Yeni Vaka 2\n",
        "X_new2=[[0.98,514.5,294,110.25,7,2,0,0]]\n",
        "p2=model.predict(X_new2)\n",
        "print(\"Tahmin 2\",p2)"
      ],
      "execution_count": 39,
      "outputs": [
        {
          "output_type": "stream",
          "text": [
            "Tahmin 1 [31.94422952]\n",
            "Tahmin 2 [32.4123184]\n"
          ],
          "name": "stdout"
        }
      ]
    },
    {
      "cell_type": "markdown",
      "metadata": {
        "id": "Fr-eVQbzs3H9"
      },
      "source": [
        "**Ridge**"
      ]
    },
    {
      "cell_type": "code",
      "metadata": {
        "id": "dhb4iJfBs2bD",
        "colab": {
          "base_uri": "https://localhost:8080/"
        },
        "outputId": "8275232c-7d65-40b3-ecdb-9ed5ee49b204"
      },
      "source": [
        "#Ridge Regression\n",
        "from pandas import read_csv\n",
        "\n",
        "from sklearn.model_selection import KFold\n",
        "from sklearn.model_selection import cross_val_score\n",
        "from sklearn.linear_model import Ridge\n",
        "\n",
        "#veri yükle\n",
        "from google.colab import drive\n",
        "drive.mount('/content/drive')\n",
        "dosya = \"/content/drive/My Drive/Colab Notebooks/ITU_Ders/Odev3_ecenur_Energy-efficiency-_ENB2012_data-_2_.csv\"\n",
        "\n",
        "isimler =[\"X1\",\"X2\",\"X3\",\"X4\",\"X5\",\"X6\",\"X7\",\"X8\",\"Y1\",\"Y2\"] #BAGIMSIZ DEGİSKEN\n",
        "vericercevesi=read_csv(dosya, names=isimler)\n",
        "array =vericercevesi.values\n",
        "\n",
        "#girdi-hedef ayrimi yapalim X girdiler Y hedef\n",
        "X = array[:,0:8]\n",
        "Y = array[:,8]\n",
        "\n",
        "\n",
        "#Grup Sayısı\n",
        "kfold=KFold(n_splits=10)\n",
        "\n",
        "#Modelimiz\n",
        "model = Ridge()\n",
        "\n",
        "#Neyi ölçeceğiz\n",
        "scoring = 'neg_mean_squared_error'\n",
        "\n",
        "#sonuclar\n",
        "results = cross_val_score(model, X, Y, cv=kfold, scoring=scoring)\n",
        "\n",
        "print(results.mean())"
      ],
      "execution_count": 40,
      "outputs": [
        {
          "output_type": "stream",
          "text": [
            "Drive already mounted at /content/drive; to attempt to forcibly remount, call drive.mount(\"/content/drive\", force_remount=True).\n",
            "-10.399891836096089\n"
          ],
          "name": "stdout"
        }
      ]
    },
    {
      "cell_type": "markdown",
      "metadata": {
        "id": "0Y0ONgHUJiKt"
      },
      "source": [
        "**Ridge ile Tahmin**"
      ]
    },
    {
      "cell_type": "code",
      "metadata": {
        "colab": {
          "base_uri": "https://localhost:8080/"
        },
        "id": "XEjm58dHGtHW",
        "outputId": "e0c6d161-ed2c-499e-bc80-4e3a60a05ae0"
      },
      "source": [
        "model.fit(X,Y)\n",
        "#Yeni Vaka 1\n",
        "X_new=[[0.9,514,290,110,7,2,0,0]] \n",
        "p1 = model.predict(X_new)\n",
        "print(\"Tahmin 1\",p1)\n",
        "\n",
        "#Yeni Vaka 2\n",
        "X_new2=[[0.98,514.5,294,110.25,7,2,0,0]]\n",
        "p2=model.predict(X_new2)\n",
        "print(\"Tahmin 2\",p2)"
      ],
      "execution_count": 41,
      "outputs": [
        {
          "output_type": "stream",
          "text": [
            "Tahmin 1 [23.94132681]\n",
            "Tahmin 2 [23.682947]\n"
          ],
          "name": "stdout"
        }
      ]
    },
    {
      "cell_type": "markdown",
      "metadata": {
        "id": "zVt9DxGutBoY"
      },
      "source": [
        "**SVM**"
      ]
    },
    {
      "cell_type": "code",
      "metadata": {
        "id": "naNuh2X5tAcJ",
        "colab": {
          "base_uri": "https://localhost:8080/"
        },
        "outputId": "73848568-bfe3-4458-8dcb-72f465820981"
      },
      "source": [
        "#SVM Regression\n",
        "from pandas import read_csv\n",
        "\n",
        "from sklearn.model_selection import KFold\n",
        "from sklearn.model_selection import cross_val_score\n",
        "from sklearn.svm import SVR\n",
        "\n",
        "#veri yükle\n",
        "from google.colab import drive\n",
        "drive.mount('/content/drive')\n",
        "dosya = \"/content/drive/My Drive/Colab Notebooks/ITU_Ders/Odev3_ecenur_Energy-efficiency-_ENB2012_data-_2_.csv\"\n",
        "\n",
        "isimler =[\"X1\",\"X2\",\"X3\",\"X4\",\"X5\",\"X6\",\"X7\",\"X8\",\"Y1\",\"Y2\"] #BAGIMSIZ DEGİSKEN\n",
        "vericercevesi=read_csv(dosya, names=isimler)\n",
        "array =vericercevesi.values\n",
        "\n",
        "#girdi-hedef ayrimi yapalim X girdiler Y hedef\n",
        "X = array[:,0:8]\n",
        "Y = array[:,8]\n",
        "\n",
        "#Grup Sayısı\n",
        "kfold=KFold(n_splits=10)\n",
        "\n",
        "#Modelimiz\n",
        "model = SVR()\n",
        "\n",
        "#Neyi ölçeceğiz\n",
        "scoring = 'neg_mean_squared_error'\n",
        "\n",
        "#sonuclar\n",
        "results = cross_val_score(model, X, Y, cv=kfold, scoring=scoring)\n",
        "\n",
        "print(results.mean())"
      ],
      "execution_count": 42,
      "outputs": [
        {
          "output_type": "stream",
          "text": [
            "Drive already mounted at /content/drive; to attempt to forcibly remount, call drive.mount(\"/content/drive\", force_remount=True).\n",
            "-30.426780135558438\n"
          ],
          "name": "stdout"
        }
      ]
    },
    {
      "cell_type": "markdown",
      "metadata": {
        "id": "TLDqtgIkJkv0"
      },
      "source": [
        "**SVM ile Tahmin**"
      ]
    },
    {
      "cell_type": "code",
      "metadata": {
        "id": "HIMxK_KUtIge",
        "colab": {
          "base_uri": "https://localhost:8080/"
        },
        "outputId": "fbc75774-3668-48a8-bfe5-6329c3817c38"
      },
      "source": [
        "model.fit(X,Y)\n",
        "#Yeni Vaka 1\n",
        "X_new=[[0.9,514,290,110,7,2,0,0]] \n",
        "p1 = model.predict(X_new)\n",
        "print(\"Tahmin 1\",p1)\n",
        "\n",
        "#Yeni Vaka 2\n",
        "X_new2=[[0.98,514.5,294,110.25,7,2,0,0]]\n",
        "p2=model.predict(X_new2)\n",
        "print(\"Tahmin 2\",p2)"
      ],
      "execution_count": 43,
      "outputs": [
        {
          "output_type": "stream",
          "text": [
            "Tahmin 1 [30.75567273]\n",
            "Tahmin 2 [30.94896279]\n"
          ],
          "name": "stdout"
        }
      ]
    }
  ]
}